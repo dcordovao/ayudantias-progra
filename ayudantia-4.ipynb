{
 "cells": [
  {
   "cell_type": "markdown",
   "metadata": {},
   "source": [
    "# Listas en Python\n",
    "\n",
    "\n",
    "## Crear listas\n",
    "\n",
    "Para crear listas tenemos el constructor **list()** y los símbolos **[ ]**. Siempre debemos guardar nuestra lista en una variable."
   ]
  },
  {
   "cell_type": "code",
   "execution_count": 1,
   "metadata": {},
   "outputs": [],
   "source": [
    "# Ejemplos\n",
    "\n",
    "lista = [] # Creando lista vacía\n",
    "lista = list() # Creando lista vacía\n",
    "numeros = [1,2,3,4,5] # lista con los números del 1 al 5\n",
    "nombres = [\"Juan\",\"Valeria\", \"Diego\", \"Marcela\"] # Lista con nombres"
   ]
  },
  {
   "cell_type": "markdown",
   "metadata": {},
   "source": [
    "\n",
    "## Metodos de las listas\n",
    "\n",
    "* **list.append(x)**: Agrega x al final de la lista.\n",
    "* **list.insert(i, x)**: Agrega x en la posicion i de la lista.\n",
    "* **lista.remove(x)**: Remueve el primer valor x de la lista.\n",
    "* **list.index(x)**: Retorna el indice del elemento x dentro de la lista.\n",
    "* **list.count(x)**: Cuenta las veces que x aparece en la lista.\n",
    "* **list.sort()**: Ordena la lista. Modifica la lista pero no retorna nada.\n",
    "* **list.reverse()**: Invierte la lista. Modifica la lista pero no retorna nada."
   ]
  },
  {
   "cell_type": "code",
   "execution_count": 2,
   "metadata": {},
   "outputs": [
    {
     "name": "stdout",
     "output_type": "stream",
     "text": [
      "[35, 10, 20, 10, 15]\n"
     ]
    }
   ],
   "source": [
    "# Ejemplos\n",
    "\n",
    "lista = list() # Lista vacía\n",
    "lista.append(10) # Agregamos 10 al final\n",
    "lista.append(20) # Agregamos 20 al final\n",
    "lista.append(10) # Agregamos 10 al final\n",
    "lista.append(15) # Agregamos 15 al final\n",
    "lista.insert(0,35) # Agregamos 35 al inicio\n",
    "\n",
    "print lista"
   ]
  },
  {
   "cell_type": "code",
   "execution_count": 3,
   "metadata": {},
   "outputs": [
    {
     "data": {
      "text/plain": [
       "1"
      ]
     },
     "execution_count": 3,
     "metadata": {},
     "output_type": "execute_result"
    }
   ],
   "source": [
    "lista.index(10) # Indice de 10 en la lista. Obs: posicion del primer 10's."
   ]
  },
  {
   "cell_type": "code",
   "execution_count": 4,
   "metadata": {},
   "outputs": [
    {
     "data": {
      "text/plain": [
       "2"
      ]
     },
     "execution_count": 4,
     "metadata": {},
     "output_type": "execute_result"
    }
   ],
   "source": [
    "lista.count(10) # Cantidad de veces que 10 aparece en lista"
   ]
  },
  {
   "cell_type": "code",
   "execution_count": 5,
   "metadata": {},
   "outputs": [
    {
     "name": "stdout",
     "output_type": "stream",
     "text": [
      "[35, 10, 20, 10]\n"
     ]
    }
   ],
   "source": [
    "lista.remove(15) # Borrar el 15. Si hubieran mas 15's solo borraria el primero.\n",
    "print lista"
   ]
  },
  {
   "cell_type": "code",
   "execution_count": 6,
   "metadata": {},
   "outputs": [
    {
     "name": "stdout",
     "output_type": "stream",
     "text": [
      "[10, 10, 20, 35]\n"
     ]
    }
   ],
   "source": [
    "lista.sort() # Ordenar, no retorna nada.\n",
    "print lista"
   ]
  },
  {
   "cell_type": "code",
   "execution_count": 7,
   "metadata": {},
   "outputs": [
    {
     "name": "stdout",
     "output_type": "stream",
     "text": [
      "[35, 20, 10, 10]\n"
     ]
    }
   ],
   "source": [
    "lista.reverse()\n",
    "print lista"
   ]
  },
  {
   "cell_type": "markdown",
   "metadata": {},
   "source": [
    "## Funciones aplicables a listas y más.\n",
    "\n",
    "* **list[i]**: Valor en el indice i. Este se puede modificar.\n",
    "* **lista[i,f]**: Sublista con los valores desde la posicion **i* a la posición **f**, sin incluir esta última.\n",
    "* **del list[i]**: Borra el valor en el índice i.\n",
    "* **sum(list)**: Retorna la suma de los valores de la lista. (Deben contener solo números)\n",
    "* **len(list)**: Retorna el largo de la lista.\n",
    "* **x in list**: Entrega True o False dependiendo de si x está o no en la lista.\n"
   ]
  },
  {
   "cell_type": "code",
   "execution_count": 8,
   "metadata": {},
   "outputs": [
    {
     "name": "stdout",
     "output_type": "stream",
     "text": [
      "[35, 20, 10, 10]\n",
      "20\n"
     ]
    }
   ],
   "source": [
    "# Ejemplos\n",
    "\n",
    "print lista\n",
    "print lista[1]"
   ]
  },
  {
   "cell_type": "code",
   "execution_count": 9,
   "metadata": {},
   "outputs": [
    {
     "data": {
      "text/plain": [
       "True"
      ]
     },
     "execution_count": 9,
     "metadata": {},
     "output_type": "execute_result"
    }
   ],
   "source": [
    "20 in lista"
   ]
  },
  {
   "cell_type": "code",
   "execution_count": 10,
   "metadata": {},
   "outputs": [
    {
     "name": "stdout",
     "output_type": "stream",
     "text": [
      "[35, 20, 'Gato', 10]\n"
     ]
    }
   ],
   "source": [
    "\n",
    "lista[2] = \"Gato\"\n",
    "print lista"
   ]
  },
  {
   "cell_type": "code",
   "execution_count": 11,
   "metadata": {},
   "outputs": [
    {
     "name": "stdout",
     "output_type": "stream",
     "text": [
      "[35, 20, 10]\n"
     ]
    }
   ],
   "source": [
    "del lista[2] # Borramos el valor del indice 2\n",
    "print lista"
   ]
  },
  {
   "cell_type": "code",
   "execution_count": 12,
   "metadata": {},
   "outputs": [
    {
     "name": "stdout",
     "output_type": "stream",
     "text": [
      "65\n"
     ]
    }
   ],
   "source": [
    "print sum(lista) # Suma de los valores de la lista."
   ]
  },
  {
   "cell_type": "code",
   "execution_count": 13,
   "metadata": {},
   "outputs": [
    {
     "name": "stdout",
     "output_type": "stream",
     "text": [
      "3\n"
     ]
    }
   ],
   "source": [
    "print len(lista) # Cantidad de valores dentro de la lista."
   ]
  },
  {
   "cell_type": "markdown",
   "metadata": {},
   "source": [
    "## Recorrer una lista\n",
    "\n",
    "Usando el ciclo **for** podemos iterar sobre una lista.\n",
    "En el siguiente ejemplo, la variable **i** toma los valores de **lista** uno por uno en cada iteración."
   ]
  },
  {
   "cell_type": "code",
   "execution_count": 14,
   "metadata": {
    "scrolled": true
   },
   "outputs": [
    {
     "name": "stdout",
     "output_type": "stream",
     "text": [
      "35\n",
      "20\n",
      "10\n"
     ]
    }
   ],
   "source": [
    "for i in lista:\n",
    "    print i"
   ]
  },
  {
   "cell_type": "markdown",
   "metadata": {},
   "source": [
    "La funcion **range** nos entrega una lista con los numeros en el rango que le demos.\n",
    "La forma de la funcion es **range(inicio, final, salto)**. La lista contendra los numeros desde **inicio** a **final** sin incluir **final**, espacios cada **salto** números. **salto** puede ser omitido.\n"
   ]
  },
  {
   "cell_type": "code",
   "execution_count": 15,
   "metadata": {},
   "outputs": [
    {
     "name": "stdout",
     "output_type": "stream",
     "text": [
      "[3, 4, 5, 6, 7, 8, 9]\n"
     ]
    }
   ],
   "source": [
    "print range(3,10)"
   ]
  },
  {
   "cell_type": "code",
   "execution_count": 16,
   "metadata": {},
   "outputs": [
    {
     "name": "stdout",
     "output_type": "stream",
     "text": [
      "[3, 6, 9]\n"
     ]
    }
   ],
   "source": [
    "print range(3,10,3)"
   ]
  }
 ],
 "metadata": {
  "kernelspec": {
   "display_name": "Python 2",
   "language": "python",
   "name": "python2"
  },
  "language_info": {
   "codemirror_mode": {
    "name": "ipython",
    "version": 2
   },
   "file_extension": ".py",
   "mimetype": "text/x-python",
   "name": "python",
   "nbconvert_exporter": "python",
   "pygments_lexer": "ipython2",
   "version": "2.7.12"
  }
 },
 "nbformat": 4,
 "nbformat_minor": 2
}
